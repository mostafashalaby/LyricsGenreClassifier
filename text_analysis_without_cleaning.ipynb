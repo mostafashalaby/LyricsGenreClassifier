{
 "cells": [
  {
   "cell_type": "code",
   "execution_count": 14,
   "metadata": {},
   "outputs": [],
   "source": [
    "import pandas as pd\n",
    "import numpy as np\n",
    "import matplotlib.pyplot as plt\n",
    "import seaborn as sns\n",
    "import re\n",
    "import nltk\n",
    "from nltk.corpus import stopwords\n",
    "from nltk.stem import WordNetLemmatizer\n",
    "from nltk.tokenize import word_tokenize\n",
    "from sklearn.feature_extraction.text import CountVectorizer\n",
    "from sklearn.feature_extraction.text import TfidfVectorizer\n",
    "from sklearn.model_selection import cross_val_score\n",
    "\n",
    "import warnings\n",
    "warnings.filterwarnings('ignore')"
   ]
  },
  {
   "cell_type": "code",
   "execution_count": 15,
   "metadata": {},
   "outputs": [],
   "source": [
    "#change this to proper csv file\n",
    "df = pd.read_csv('cleaned_songs_data.csv')"
   ]
  },
  {
   "cell_type": "code",
   "execution_count": 16,
   "metadata": {},
   "outputs": [
    {
     "name": "stderr",
     "output_type": "stream",
     "text": [
      "[nltk_data] Downloading package stopwords to\n",
      "[nltk_data]     C:\\Users\\aliay\\AppData\\Roaming\\nltk_data...\n",
      "[nltk_data]   Package stopwords is already up-to-date!\n"
     ]
    }
   ],
   "source": [
    "#using standard stopwords\n",
    "\n",
    "nltk.download('stopwords')\n",
    "\n",
    "stop_words = set(stopwords.words('english'))\n"
   ]
  },
  {
   "cell_type": "code",
   "execution_count": 17,
   "metadata": {},
   "outputs": [],
   "source": [
    "from sklearn.feature_extraction.text import TfidfVectorizer\n",
    "from sklearn import svm\n",
    "from sklearn.model_selection import train_test_split\n",
    "from sklearn.pipeline import Pipeline\n",
    "from sklearn.metrics import classification_report"
   ]
  },
  {
   "cell_type": "code",
   "execution_count": 18,
   "metadata": {},
   "outputs": [],
   "source": [
    "# Remove rows with missing values\n",
    "df = df.dropna()\n"
   ]
  },
  {
   "cell_type": "code",
   "execution_count": 19,
   "metadata": {},
   "outputs": [
    {
     "name": "stdout",
     "output_type": "stream",
     "text": [
      "              precision    recall  f1-score   support\n",
      "\n",
      "     country       0.82      0.80      0.81        41\n",
      "     hip_hop       1.00      0.93      0.97        30\n",
      "        jazz       1.00      0.80      0.89        25\n",
      "         pop       0.71      0.82      0.76        44\n",
      "        rock       0.82      0.84      0.83        38\n",
      "\n",
      "    accuracy                           0.84       178\n",
      "   macro avg       0.87      0.84      0.85       178\n",
      "weighted avg       0.85      0.84      0.84       178\n",
      "\n"
     ]
    }
   ],
   "source": [
    "#training and splitting data\n",
    "\n",
    "X_train, X_test, y_train, y_test = train_test_split(df['lyrics'], df['genre'], test_size=0.2)\n",
    "\n",
    "\n",
    "text_clf = Pipeline([\n",
    "    ('tfidf', TfidfVectorizer(stop_words=list(stop_words))),\n",
    "    ('clf', svm.SVC()),\n",
    "])\n",
    "\n",
    "text_clf.fit(X_train, y_train)\n",
    "\n",
    "y_pred = text_clf.predict(X_test)\n",
    "\n",
    "print(classification_report(y_test, y_pred))"
   ]
  },
  {
   "cell_type": "code",
   "execution_count": 21,
   "metadata": {},
   "outputs": [
    {
     "data": {
      "text/html": [
       "<div>\n",
       "<style scoped>\n",
       "    .dataframe tbody tr th:only-of-type {\n",
       "        vertical-align: middle;\n",
       "    }\n",
       "\n",
       "    .dataframe tbody tr th {\n",
       "        vertical-align: top;\n",
       "    }\n",
       "\n",
       "    .dataframe thead th {\n",
       "        text-align: right;\n",
       "    }\n",
       "</style>\n",
       "<table border=\"1\" class=\"dataframe\">\n",
       "  <thead>\n",
       "    <tr style=\"text-align: right;\">\n",
       "      <th></th>\n",
       "      <th>artist_name</th>\n",
       "      <th>track_name</th>\n",
       "      <th>genre</th>\n",
       "      <th>lyrics</th>\n",
       "      <th>sentiment</th>\n",
       "    </tr>\n",
       "  </thead>\n",
       "  <tbody>\n",
       "    <tr>\n",
       "      <th>4</th>\n",
       "      <td>Van Halen</td>\n",
       "      <td>Jump</td>\n",
       "      <td>rock</td>\n",
       "      <td>Ow! I get up, and nothing gets me down You got...</td>\n",
       "      <td>-0.351231</td>\n",
       "    </tr>\n",
       "    <tr>\n",
       "      <th>2</th>\n",
       "      <td>David Bowie</td>\n",
       "      <td>Heroes</td>\n",
       "      <td>rock</td>\n",
       "      <td>I, I will be king And you, you will be queen T...</td>\n",
       "      <td>-0.312500</td>\n",
       "    </tr>\n",
       "    <tr>\n",
       "      <th>1</th>\n",
       "      <td>Led Zeppelin</td>\n",
       "      <td>Immigrant Song</td>\n",
       "      <td>rock</td>\n",
       "      <td>​ (Two, three, four) Ahh! Ahh! We come from th...</td>\n",
       "      <td>0.076623</td>\n",
       "    </tr>\n",
       "    <tr>\n",
       "      <th>3</th>\n",
       "      <td>Matchbox Twenty</td>\n",
       "      <td>Push</td>\n",
       "      <td>rock</td>\n",
       "      <td>She said, \"I don't know if I've ever been good...</td>\n",
       "      <td>0.133681</td>\n",
       "    </tr>\n",
       "    <tr>\n",
       "      <th>0</th>\n",
       "      <td>Red Hot Chili Peppers</td>\n",
       "      <td>Can't Stop</td>\n",
       "      <td>rock</td>\n",
       "      <td>Can't stop, addicted to the shindig Chop Top, ...</td>\n",
       "      <td>0.285294</td>\n",
       "    </tr>\n",
       "  </tbody>\n",
       "</table>\n",
       "</div>"
      ],
      "text/plain": [
       "             artist_name      track_name genre  \\\n",
       "4              Van Halen            Jump  rock   \n",
       "2            David Bowie          Heroes  rock   \n",
       "1           Led Zeppelin  Immigrant Song  rock   \n",
       "3        Matchbox Twenty            Push  rock   \n",
       "0  Red Hot Chili Peppers      Can't Stop  rock   \n",
       "\n",
       "                                              lyrics  sentiment  \n",
       "4  Ow! I get up, and nothing gets me down You got...  -0.351231  \n",
       "2  I, I will be king And you, you will be queen T...  -0.312500  \n",
       "1  ​ (Two, three, four) Ahh! Ahh! We come from th...   0.076623  \n",
       "3  She said, \"I don't know if I've ever been good...   0.133681  \n",
       "0  Can't stop, addicted to the shindig Chop Top, ...   0.285294  "
      ]
     },
     "execution_count": 21,
     "metadata": {},
     "output_type": "execute_result"
    }
   ],
   "source": [
    "from textblob import TextBlob\n",
    "\n",
    "# Adding sentiment column for genre sentiment analysis\n",
    "def get_sentiment(text):\n",
    "    blob = TextBlob(text)\n",
    "    return blob.sentiment.polarity\n",
    "\n",
    "df['sentiment'] = df['lyrics'].apply(get_sentiment)\n",
    "\n",
    "df.head().sort_values(by='sentiment')\n",
    "\n",
    "\n",
    "\n"
   ]
  },
  {
   "cell_type": "code",
   "execution_count": 22,
   "metadata": {},
   "outputs": [
    {
     "name": "stdout",
     "output_type": "stream",
     "text": [
      "genre\n",
      " Elliphant & ALMA) — \"\"bitches\"\" (2018) Dagny — \"\"Used to You\"\" (2018) NEEDTOBREATHE — \"\"Bullets\"\" (2018) Erin Rae — Putting on Airs (2018) Snail Mail — Lush (2018) Tyler    0.088590\n",
      "country                                                                                                                                                                       0.092908\n",
      "hip_hop                                                                                                                                                                      -0.002366\n",
      "jazz                                                                                                                                                                          0.118467\n",
      "pop                                                                                                                                                                           0.119794\n",
      "rock                                                                                                                                                                          0.054094\n",
      "Name: sentiment, dtype: float64\n"
     ]
    }
   ],
   "source": [
    "# Display mean sentiment by genre\n",
    "print(df.groupby('genre')['sentiment'].mean())\n"
   ]
  },
  {
   "cell_type": "code",
   "execution_count": 23,
   "metadata": {},
   "outputs": [
    {
     "data": {
      "image/png": "[encoded data removed]",
      "text/plain": [
       "<Figure size 640x480 with 1 Axes>"
      ]
     },
     "metadata": {},
     "output_type": "display_data"
    }
   ],
   "source": [
    "# Plot sentiment distribution by genre\n",
    "sns.boxplot(x='genre', y='sentiment', data=df)\n",
    "plt.title(\"Sentiment Distribution by Genre\")\n",
    "plt.show()"
   ]
  }
 ],
 "metadata": {
  "kernelspec": {
   "display_name": "Python 3",
   "language": "python",
   "name": "python3"
  },
  "language_info": {
   "codemirror_mode": {
    "name": "ipython",
    "version": 3
   },
   "file_extension": ".py",
   "mimetype": "text/x-python",
   "name": "python",
   "nbconvert_exporter": "python",
   "pygments_lexer": "ipython3",
   "version": "3.12.4"
  }
 },
 "nbformat": 4,
 "nbformat_minor": 2
}
